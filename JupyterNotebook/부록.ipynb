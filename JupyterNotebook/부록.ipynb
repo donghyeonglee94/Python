{
 "cells": [
  {
   "cell_type": "markdown",
   "id": "a7d80e3f",
   "metadata": {},
   "source": [
    "이스케이프 시퀀스 | 설명\n",
    ":---: | :---:\n",
    "\\\\ | 백슬래시, \\\n",
    "\\' | 작은따옴표, Single quote, '\n",
    "\\\" | 큰따옴표, Double quote, \"\n",
    "\\a | 벨, ASCII Bell, BEL\n",
    "\\b | 백스페이스, ASCII Backspace, BS\n",
    "\\f | 폼피드, ASCII Formfeed, FF\n",
    "\\n | 새 줄, 개행 문자, ASCII Linefeed, LF\n",
    "\\r | 캐리지 리턴, ASCII Carriage Return, CR\n",
    "\\t | 탭 문자, ASCII Horizontal Tab, TAB\n",
    "\\v | 수직 탭, ASCII Vertical Tab, VT\n",
    "\\ooo | \\ 뒤에 8진수 숫자를 지정하여 ASCII 코드의 문자 표현 ,'\\141'은 'a'를 표현\n",
    "\\xhh  | \\ 뒤에 16진수 숫자를 지정하여 ASCII 코드의 문자 표현, '\\x61'은 'a'를 표현\n",
    "\\N{name} | { } 안에 문자 이름을 지정하여 유니코드의 문자 표현(파이썬 3.3이상), \\N{LINE FEED}'는 '\\n'을 표현\n",
    "\\uxxxx | \\ 뒤에 16비트 16진수 숫자를 지정하여 유니코드의 문자 표현, '\\u0061'은 'a'를 표현\n",
    "\\Uxxxxxxxx | \\ 뒤에 32비트 16진수 숫자를 지정하여 유니코드의 문자 표현, \\U00000061'은 'a'를 표현\n",
    "\n",
    "Ascii Table\n",
    "https://www.asciitable.com\n",
    "\n",
    "formal name aliases for Unicode characters\n",
    "http://www.unicode.org/Public/8.0.0/ucd/NameAliases.txt\n",
    "\n",
    "List of Unicode characters(유니코드 문자 목록)\n",
    "https://en.wikipedia.org/wiki/List_of_Unicode_characters\n",
    "Hangul Syllables(한글 음절)\n",
    "https://en.wikipedia.org/wiki/Hangul_Syllables\n"
   ]
  },
  {
   "cell_type": "markdown",
   "id": "5efc8f8b",
   "metadata": {},
   "source": [
    "### 실수 정확성\n",
    "- 부동소수점 한계 처리\n",
    "- sys.float_info.epsilon과 비교\n",
    "- math.isclose(변수, 차이값)\n",
    "- decimal.Decimal('숫자')\n",
    "- fraction.Fraction('분수')"
   ]
  }
 ],
 "metadata": {
  "kernelspec": {
   "display_name": "Python 3 (ipykernel)",
   "language": "python",
   "name": "python3"
  },
  "language_info": {
   "codemirror_mode": {
    "name": "ipython",
    "version": 3
   },
   "file_extension": ".py",
   "mimetype": "text/x-python",
   "name": "python",
   "nbconvert_exporter": "python",
   "pygments_lexer": "ipython3",
   "version": "3.8.10"
  }
 },
 "nbformat": 4,
 "nbformat_minor": 5
}
