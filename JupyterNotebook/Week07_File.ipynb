{
 "cells": [
  {
   "cell_type": "markdown",
   "id": "f7da1701",
   "metadata": {},
   "source": [
    "# File\n",
    "- 파일 읽기\n",
    "- 파일 쓰기"
   ]
  },
  {
   "cell_type": "markdown",
   "id": "43f9890b",
   "metadata": {},
   "source": [
    "## File Read\n",
    "```python\n",
    "# 파일 열기\n",
    "f = open('파일경로','r')\n",
    "\n",
    "# 파일 읽기\n",
    "f.read(): 모든 내용을 읽음\n",
    "f.readline(): 1행씩 읽음\n",
    "f.readlines(): 모든 행을 읽어서 리스트로 반환\n",
    "    \n",
    "# 파일 닫기\n",
    "f.close()\n",
    "```"
   ]
  },
  {
   "cell_type": "code",
   "execution_count": null,
   "id": "14cb0a23",
   "metadata": {},
   "outputs": [],
   "source": [
    "with open('test.txt', 'rt') as f:\n",
    "    for line in f.readlines():\n",
    "        print(line)"
   ]
  },
  {
   "cell_type": "markdown",
   "id": "b77115a3",
   "metadata": {},
   "source": [
    "## File Write\n",
    "```python\n",
    "# 파일 열기\n",
    "f = open('파일경로','w')  # 'w'대신 'a'로 하면 기존 파일에 추가\n",
    "\n",
    "# 파일 쓰기\n",
    "f.write(\"내용\")\n",
    "    \n",
    "# 파일 닫기\n",
    "f.close()\n",
    "```"
   ]
  },
  {
   "cell_type": "code",
   "execution_count": null,
   "id": "6da47c46",
   "metadata": {},
   "outputs": [],
   "source": [
    "with open('test.txt','wt') as f:\n",
    "    f.write(\"Hello world\")"
   ]
  },
  {
   "cell_type": "markdown",
   "id": "8af9adfe",
   "metadata": {},
   "source": [
    "---"
   ]
  },
  {
   "cell_type": "markdown",
   "id": "11048884",
   "metadata": {},
   "source": [
    "### File Quiz1\n",
    "- 구구단 파일에 기록하기\n",
    "- 구구단 파일에서 특정 단만 읽어서 출력하기\n",
    "\n",
    "### File Quiz2\n",
    "- 인물에 대한 정보를 입력 받아서 profiles.txt로 저장\n",
    "- profiles.txt에서 특정 인물에 대한 정보만 읽어서 출력"
   ]
  }
 ],
 "metadata": {
  "kernelspec": {
   "display_name": "Python 3 (ipykernel)",
   "language": "python",
   "name": "python3"
  },
  "language_info": {
   "codemirror_mode": {
    "name": "ipython",
    "version": 3
   },
   "file_extension": ".py",
   "mimetype": "text/x-python",
   "name": "python",
   "nbconvert_exporter": "python",
   "pygments_lexer": "ipython3",
   "version": "3.8.10"
  }
 },
 "nbformat": 4,
 "nbformat_minor": 5
}
