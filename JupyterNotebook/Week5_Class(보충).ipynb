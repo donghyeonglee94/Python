{
 "cells": [
  {
   "cell_type": "code",
   "execution_count": 1,
   "id": "3613564d",
   "metadata": {},
   "outputs": [],
   "source": [
    "class FourCal:\n",
    "    def __init__(self, first, second):\n",
    "        self.first = first\n",
    "        self.second = second\n",
    "        \n",
    "    def setdata(self, first, second):\n",
    "        self.first = first\n",
    "        self.second = second"
   ]
  },
  {
   "cell_type": "code",
   "execution_count": 2,
   "id": "27866457",
   "metadata": {},
   "outputs": [
    {
     "name": "stdout",
     "output_type": "stream",
     "text": [
      "3\n",
      "5\n"
     ]
    }
   ],
   "source": [
    "# 멤버 변수 first, second 접근\n",
    "a = FourCal(3,5)\n",
    "print(a.first)\n",
    "print(a.second)"
   ]
  },
  {
   "cell_type": "code",
   "execution_count": 4,
   "id": "ae398d90",
   "metadata": {},
   "outputs": [
    {
     "name": "stdout",
     "output_type": "stream",
     "text": [
      "10\n",
      "100\n"
     ]
    }
   ],
   "source": [
    "# 멤버변수에 직접 접근\n",
    "a.first = 10\n",
    "a.second = 100\n",
    "print(a.first)\n",
    "print(a.second)"
   ]
  },
  {
   "cell_type": "code",
   "execution_count": 5,
   "id": "e17184fd",
   "metadata": {},
   "outputs": [
    {
     "name": "stdout",
     "output_type": "stream",
     "text": [
      "40\n",
      "50\n"
     ]
    }
   ],
   "source": [
    "# 멤버 변수 직접 접근은 위험하니 메소드를 만들어서 접근\n",
    "a.setdata(40, 50)\n",
    "print(a.first)\n",
    "print(a.second)"
   ]
  },
  {
   "cell_type": "markdown",
   "id": "07b111f5",
   "metadata": {},
   "source": [
    "#### 결론: 변수 이름으로 직접 접근이 가능하지만 안전을 위해 메소드를 만들어서 접근  \n",
    "=> 만든 사람외에는 접근하지 못하도록 함"
   ]
  },
  {
   "cell_type": "code",
   "execution_count": null,
   "id": "aad0227f",
   "metadata": {},
   "outputs": [],
   "source": []
  }
 ],
 "metadata": {
  "kernelspec": {
   "display_name": "Python 3 (ipykernel)",
   "language": "python",
   "name": "python3"
  },
  "language_info": {
   "codemirror_mode": {
    "name": "ipython",
    "version": 3
   },
   "file_extension": ".py",
   "mimetype": "text/x-python",
   "name": "python",
   "nbconvert_exporter": "python",
   "pygments_lexer": "ipython3",
   "version": "3.8.10"
  }
 },
 "nbformat": 4,
 "nbformat_minor": 5
}
