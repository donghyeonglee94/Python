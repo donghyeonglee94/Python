{
 "cells": [
  {
   "cell_type": "markdown",
   "id": "81bf6747",
   "metadata": {},
   "source": [
    "# 클래스\n",
    "```python\n",
    "class 클래스명:\n",
    "    def __init__(self, 매개변수, ...):\n",
    "        self.멤버변수1 = 매개변수1\n",
    "        self.멤버변수2 = 매개변수2\n",
    "```"
   ]
  },
  {
   "cell_type": "code",
   "execution_count": null,
   "id": "4a6df93e",
   "metadata": {},
   "outputs": [],
   "source": [
    "# 클래스(설계도)\n",
    "class Math:\n",
    "    def __init__(self, x, y):\n",
    "        self.x = x\n",
    "        self.y = y\n",
    "\n",
    "#Math 객체 생성\n",
    "a = Math(3, 5)\n",
    "\n",
    "# 생성된 a 객체 멤버변수 접근\n",
    "print(a.x)\n",
    "print(a.y)"
   ]
  },
  {
   "cell_type": "markdown",
   "id": "e97b702a",
   "metadata": {},
   "source": [
    "# 클래스(멤버함수)\n",
    "```python\n",
    "class 클래스명:\n",
    "\n",
    "    def __init__(self, 매개변수, ...):\n",
    "        self.멤버변수1 = 매개변수1\n",
    "        self.멤버변수2 = 매개변수2\n",
    "        \n",
    "    def 멤버함수(self, 매개변수, ...):\n",
    "        코드 구현\n",
    "        ...\n",
    "        return\n",
    "```"
   ]
  },
  {
   "cell_type": "code",
   "execution_count": 1,
   "id": "78552947",
   "metadata": {},
   "outputs": [],
   "source": [
    "class Bear:\n",
    "    def __init__(self, age, height, weight):\n",
    "        self.age = age\n",
    "        self.height = height\n",
    "        self.weight = weight\n",
    "        \n",
    "    def setAge(self, age):\n",
    "        self.age = age\n",
    "        return\n",
    "    \n",
    "    def setHeight(self, height):\n",
    "        self.height = height\n",
    "        return\n",
    "    \n",
    "    def __str__(self):\n",
    "        return str(self.age)"
   ]
  },
  {
   "cell_type": "code",
   "execution_count": 2,
   "id": "8e5d268c",
   "metadata": {},
   "outputs": [],
   "source": [
    "babyBear = Bear(5, 100, 90)\n",
    "papaBear = Bear(40, 190, 89)\n",
    "momBear = Bear(35, 170, 69)"
   ]
  },
  {
   "cell_type": "code",
   "execution_count": 3,
   "id": "19a49302",
   "metadata": {},
   "outputs": [
    {
     "name": "stdout",
     "output_type": "stream",
     "text": [
      "5\n",
      "10\n"
     ]
    }
   ],
   "source": [
    "print(babyBear.age)\n",
    "\n",
    "babyBear.setAge(10)\n",
    "print(babyBear.age)"
   ]
  },
  {
   "cell_type": "code",
   "execution_count": null,
   "id": "5d22750b",
   "metadata": {},
   "outputs": [],
   "source": []
  },
  {
   "cell_type": "code",
   "execution_count": null,
   "id": "3509f9ff",
   "metadata": {},
   "outputs": [],
   "source": []
  }
 ],
 "metadata": {
  "kernelspec": {
   "display_name": "Python 3 (ipykernel)",
   "language": "python",
   "name": "python3"
  },
  "language_info": {
   "codemirror_mode": {
    "name": "ipython",
    "version": 3
   },
   "file_extension": ".py",
   "mimetype": "text/x-python",
   "name": "python",
   "nbconvert_exporter": "python",
   "pygments_lexer": "ipython3",
   "version": "3.8.10"
  }
 },
 "nbformat": 4,
 "nbformat_minor": 5
}
