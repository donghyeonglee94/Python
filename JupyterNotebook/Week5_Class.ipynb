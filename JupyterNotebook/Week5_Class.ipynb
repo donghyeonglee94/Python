{
 "cells": [
  {
   "cell_type": "markdown",
   "id": "d06c96a1",
   "metadata": {},
   "source": [
    "# Class\n",
    "- define\n",
    "- constructor, destructor\n",
    "- instance, 객체\n",
    "- 멤버 변수, method\n",
    "- 상속, super()\n",
    "- 오버라이딩"
   ]
  },
  {
   "cell_type": "markdown",
   "id": "924efbd0",
   "metadata": {},
   "source": [
    "## 클래스\n",
    "\n",
    "#### 클래스\n",
    "- 클래스는 객체를 만드는 틀(설계도)\n",
    "- 변수와 메소드(클래스내 함수)로 구성\n",
    "\n",
    "#### 객체\n",
    "- 클래스를 사용하여 생성되는 실체\n",
    "- 구현할 대상\n",
    "- 객체는 모든 인스턴스를 포함\n",
    "\n",
    "#### 인스턴스\n",
    "- 구체화되어 생성된 실체\n",
    "\n",
    "=> 객체는 사람이라고 생각하면 인스턴스는 사람1, 사람2,...로 비유할 수 있음\n",
    "\n",
    "#### 상속\n",
    "- 부모 클래스를 물려받아서 부모 클래스의 변수와 메소드를 사용 가능\n",
    "- 오버라이딩: 부모 클래스와 동일한 이름과 매개변수의 메소드를 선언하여 사용하는 것으로 이 경우 부모의 메소드는 사용되지 않음"
   ]
  },
  {
   "cell_type": "markdown",
   "id": "68c830b0",
   "metadata": {},
   "source": [
    "## 클래스 사용\n",
    "#### 클래스 선언\n",
    "```python\n",
    "class 클래스명():\n",
    "    # 생성자\n",
    "    def __init(self, 매개변수, ...):\n",
    "        self.변수1 = 매개변수1\n",
    "    # 소멸자\n",
    "    def __del__(self):\n",
    "        print('~가 삭제되었습니다.')\n",
    "        \n",
    "    def 메서드(self, 매개변수, ...):\n",
    "        실행 코드\n",
    "        return\n",
    "```\n",
    "\n",
    "#### 클래스 생성 및 사용\n",
    "```python\n",
    "a = 클래스명()\n",
    "a.메서드()\n",
    "```"
   ]
  },
  {
   "cell_type": "code",
   "execution_count": 1,
   "id": "9928de05",
   "metadata": {},
   "outputs": [],
   "source": [
    "class Animal:\n",
    "    def __init__(self, name, age):\n",
    "        self.name = name\n",
    "        self.age = age\n",
    "\n",
    "    def __del__(self):\n",
    "        print('아파서 병원에 갔어요!!')\n",
    "    \n",
    "    def walk(self):\n",
    "        print(f'{self.name}이 산책 중입니다.')\n",
    "    \n",
    "    def age(self):\n",
    "        print(f'{self.name}은 {self.age}살 입니다.')\n",
    "    \n",
    "#     def cry(self):\n",
    "#         raise NotImplementedError"
   ]
  },
  {
   "cell_type": "code",
   "execution_count": 2,
   "id": "872f73c1",
   "metadata": {},
   "outputs": [
    {
     "name": "stdout",
     "output_type": "stream",
     "text": [
      "happy이 산책 중입니다.\n",
      "axion이 산책 중입니다.\n"
     ]
    }
   ],
   "source": [
    "# mypet1과 mypet2는 인스턴스\n",
    "mypet1 = Animal('happy', 2)\n",
    "mypet1.walk()\n",
    "mypet2 = Animal('axion', 1)\n",
    "mypet2.walk()"
   ]
  },
  {
   "cell_type": "markdown",
   "id": "509a1157",
   "metadata": {},
   "source": [
    "## 클래스 상속\n",
    "\n",
    "```python\n",
    "class 클래스명(상속 클래스):\n",
    "    # 생성자\n",
    "    def __init(self, 매개변수, ...):\n",
    "        super().__init__(매개변수, ...)\n",
    "        self.변수1 = 매개변수1\n",
    "    # 소멸자\n",
    "    def __del__(self):\n",
    "        print('~가 삭제되었습니다.')\n",
    "        \n",
    "    def 메서드(self, 매개변수, ...):\n",
    "        실행 코드\n",
    "        return\n",
    "```"
   ]
  },
  {
   "cell_type": "code",
   "execution_count": 3,
   "id": "eb08e5bf",
   "metadata": {},
   "outputs": [],
   "source": [
    "class Cat(Animal):\n",
    "    def __init__(self, name, age):\n",
    "        super().__init__(name, age)\n",
    "        self.kind = 'Cat'\n",
    "        \n",
    "    def cry(self):\n",
    "        print('meow')"
   ]
  },
  {
   "cell_type": "code",
   "execution_count": 4,
   "id": "50ce3ddd",
   "metadata": {},
   "outputs": [],
   "source": [
    "class Dog(Animal):\n",
    "    def __init__(self, name, age):\n",
    "        super().__init__(name, age)\n",
    "        self.kind = 'Dog'\n",
    "        \n",
    "    def bark(self):\n",
    "        print('bowwow')"
   ]
  },
  {
   "cell_type": "code",
   "execution_count": 5,
   "id": "a3629708",
   "metadata": {},
   "outputs": [
    {
     "name": "stdout",
     "output_type": "stream",
     "text": [
      "lesser이 산책 중입니다.\n",
      "corn이 산책 중입니다.\n"
     ]
    }
   ],
   "source": [
    "mypet3 = Cat('lesser', 2)\n",
    "mypet3.walk()\n",
    "mypet4 = Dog('corn', 4)\n",
    "mypet4.walk()"
   ]
  },
  {
   "cell_type": "code",
   "execution_count": 6,
   "id": "3b95c986",
   "metadata": {},
   "outputs": [
    {
     "name": "stdout",
     "output_type": "stream",
     "text": [
      "meow\n",
      "bowwow\n"
     ]
    }
   ],
   "source": [
    "# 상속 받거나 선언된 메소드만 사용\n",
    "mypet3.cry()\n",
    "mypet4.bark()"
   ]
  },
  {
   "cell_type": "code",
   "execution_count": 7,
   "id": "bc73f38f",
   "metadata": {},
   "outputs": [
    {
     "ename": "AttributeError",
     "evalue": "'Dog' object has no attribute 'cry'",
     "output_type": "error",
     "traceback": [
      "\u001b[1;31m---------------------------------------------------------------------------\u001b[0m",
      "\u001b[1;31mAttributeError\u001b[0m                            Traceback (most recent call last)",
      "Input \u001b[1;32mIn [7]\u001b[0m, in \u001b[0;36m<module>\u001b[1;34m\u001b[0m\n\u001b[0;32m      1\u001b[0m \u001b[38;5;66;03m# mypet4는 Dog 객체인데 Dog객체는 cry() 메소드가 선언 되어있지 않아서 생기는 오류\u001b[39;00m\n\u001b[1;32m----> 2\u001b[0m \u001b[43mmypet4\u001b[49m\u001b[38;5;241;43m.\u001b[39;49m\u001b[43mcry\u001b[49m()\n",
      "\u001b[1;31mAttributeError\u001b[0m: 'Dog' object has no attribute 'cry'"
     ]
    }
   ],
   "source": [
    "# mypet4는 Dog 객체인데 Dog객체는 cry() 메소드가 선언 되어있지 않아서 생기는 오류\n",
    "mypet4.cry()"
   ]
  },
  {
   "cell_type": "code",
   "execution_count": 8,
   "id": "ce161d35",
   "metadata": {},
   "outputs": [
    {
     "name": "stdout",
     "output_type": "stream",
     "text": [
      "아파서 병원에 갔어요!!\n"
     ]
    }
   ],
   "source": [
    "# 소멸자 사용\n",
    "del mypet4"
   ]
  },
  {
   "cell_type": "markdown",
   "id": "869af9da",
   "metadata": {},
   "source": [
    "## 클래스(심화)\n",
    "- private, protected, public: __, _를 사용해서 표현\n",
    "- getter / setter: @property이용\n",
    "- magic method: \\__eq__(self,x)등을 활용하여 연산자를 이용 가능하게 함\n",
    "- 클래스 method : @classmethod 사용, 클래스 변수만 접근 cls로 사용, 멤버 변수 사용 불가\n",
    "- static method: 클래스 변수, 멤버 변수 사용 불가"
   ]
  },
  {
   "cell_type": "code",
   "execution_count": null,
   "id": "427c9b47",
   "metadata": {},
   "outputs": [],
   "source": []
  }
 ],
 "metadata": {
  "kernelspec": {
   "display_name": "Python 3 (ipykernel)",
   "language": "python",
   "name": "python3"
  },
  "language_info": {
   "codemirror_mode": {
    "name": "ipython",
    "version": 3
   },
   "file_extension": ".py",
   "mimetype": "text/x-python",
   "name": "python",
   "nbconvert_exporter": "python",
   "pygments_lexer": "ipython3",
   "version": "3.8.10"
  }
 },
 "nbformat": 4,
 "nbformat_minor": 5
}
