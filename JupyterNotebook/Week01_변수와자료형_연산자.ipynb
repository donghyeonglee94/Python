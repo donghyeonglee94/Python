{
 "cells": [
  {
   "cell_type": "markdown",
   "id": "b282aa06",
   "metadata": {},
   "source": [
    "### 기초 문법\n",
    "\n",
    "1. 출력하기\n",
    "2. 입력받기\n",
    "3. 주석달기\n",
    "\n",
    "```python\n",
    "# 출력하기\n",
    "print(\"Hello World!!!\")\n",
    "\n",
    "# 입력 받기\n",
    "a = input()\n",
    "print(f\"Input Data: {a}\")\n",
    "```"
   ]
  },
  {
   "cell_type": "markdown",
   "id": "ed11e97f",
   "metadata": {},
   "source": [
    "# 변수(Variable)\n",
    "- 변수: 변하는 수, 메모리의 주소값\n",
    "- python의 모든 것은 객체\n",
    "\n",
    "1. 선언 및 초기화\n",
    "2. 자료형: Number / String / Boolean\n",
    "\n",
    "(+) 자료형 확인 : type(변수)\n",
    "\n",
    "```python\n",
    "# 변수 선언 및 초기화\n",
    "변수명 = 값\n",
    "```"
   ]
  },
  {
   "cell_type": "code",
   "execution_count": null,
   "id": "5f1d887b",
   "metadata": {},
   "outputs": [],
   "source": [
    "# 변수 선언 및 초기화\n",
    "a = 10\n",
    "\n",
    "# 자료형\n",
    "i_num = 10\n",
    "f_num = 10.0\n",
    "str_a = \"Hello World\"\n",
    "bool_a = True\n",
    "\n",
    "print(f\"integer: {i_num}\")\n",
    "print(f\"float: {f_num}\")\n",
    "print(f\"string: {str_a}\")\n",
    "print(f\"bool: {bool_a}\")"
   ]
  },
  {
   "cell_type": "code",
   "execution_count": null,
   "id": "9e548308",
   "metadata": {},
   "outputs": [],
   "source": [
    "# 선언 및 초기화\n",
    "a = 10\n",
    "b = \"moji\"\n",
    "c, d = \"little lion\", 15\n",
    "\n",
    "# 값 확인하기\n",
    "print(f'a: {type(a)}, b: {type(b)}, c: {type(c)}, d: {type(d)}')"
   ]
  },
  {
   "cell_type": "markdown",
   "id": "7ec52f0c",
   "metadata": {},
   "source": [
    "# 자료형\n",
    "\n",
    "1. Number : 정수, 실수\n",
    "2. String : \"Hello\", \"\"\" Hello\"\"\", f\"Hello{i}\", \"Hello{}\".format(i)\n",
    "3. Boolean : True, False\n",
    "4. 형변환: int(), float(), str(), bool()\n",
    "\n",
    "```python\n",
    "# Number\n",
    "num_i = 10\n",
    "num_f = 10.0\n",
    "\n",
    "# String\n",
    "text1 = \"Hello\"\n",
    "text2 = f\"Hello{num_i}\"\n",
    "\n",
    "\n",
    "# Boolean\n",
    "bool1 = True\n",
    "bool2 = False\n",
    "```"
   ]
  },
  {
   "cell_type": "markdown",
   "id": "861a1c6a",
   "metadata": {},
   "source": [
    "### Number\n",
    "- 숫자형 자료\n",
    "- Integer와 Float\n",
    "- 소수점으로 숫자 초기화시 Float으로 지정\n",
    "```python\n",
    "   # Integer\n",
    "   변수1 = 정수(10)\n",
    "   # Float\n",
    "   변수2 = 실수(10.0)\n",
    "```"
   ]
  },
  {
   "cell_type": "code",
   "execution_count": 3,
   "id": "8a99778e",
   "metadata": {},
   "outputs": [
    {
     "name": "stdout",
     "output_type": "stream",
     "text": [
      "a는 10이고 타입은 <class 'int'>입니다.\n",
      "b는 10.0이고 타입은 <class 'float'>\n"
     ]
    }
   ],
   "source": [
    "# Number\n",
    "a = 10\n",
    "b = 10.0\n",
    "print(f'a는 {a}이고 타입은 {type(a)}입니다.')\n",
    "print(f'b는 {b}이고 타입은 {type(b)}')"
   ]
  },
  {
   "cell_type": "markdown",
   "id": "b6c86e4a",
   "metadata": {},
   "source": [
    "### String\n",
    "- 문자형 자료\n",
    "- 변수명과 함께 사용시 f-string 또는 format 사용\n",
    "- python은 문자와 문자열을 구분하지않고 사용 가능\n",
    "- 여러줄 표기 사용시 줄 끝마다 '\\n'이 포함\n",
    "```python\n",
    "    # 한 줄\n",
    "    변수1 = '내용...'\n",
    "    변수2 = \"내용...\"\n",
    "    \n",
    "    # 여러줄\n",
    "    변수3 = '''Hello\n",
    "World'''\n",
    "    변수4 = \"\"\"Hello\n",
    "World\"\"\"\n",
    "    \n",
    "    # f-string\n",
    "    print(f'Hello {name}')\n",
    "    \n",
    "    # format\n",
    "    print('Hello {}, {}'.format(a, b))\n",
    "```"
   ]
  },
  {
   "cell_type": "code",
   "execution_count": null,
   "id": "5c6986b3",
   "metadata": {},
   "outputs": [],
   "source": [
    "# String\n",
    "content1 = 'hello world'\n",
    "content2 = \"hello world\"\n",
    "content3 = '''long sentance\n",
    "is allowed'''\n",
    "print(content1)\n",
    "print(content2)\n",
    "print(content3)"
   ]
  },
  {
   "cell_type": "code",
   "execution_count": null,
   "id": "9e6a6ea7",
   "metadata": {},
   "outputs": [],
   "source": [
    "name = 'moji'\n",
    "b = 20\n",
    "print('Hello {}, {}'.format(name, b))\n",
    "print(f'Hello {name} {b}')"
   ]
  },
  {
   "cell_type": "markdown",
   "id": "cf1021e1",
   "metadata": {},
   "source": [
    "### Boolean\n",
    "- True(0 이외의 수)와 False(0)\n",
    "- 참과 거짓으로 사용\n",
    "```python\n",
    "    변수1 = True\n",
    "    변수2 = False\n",
    "```"
   ]
  },
  {
   "cell_type": "code",
   "execution_count": null,
   "id": "cb642e78",
   "metadata": {},
   "outputs": [],
   "source": [
    "# Boolean\n",
    "state = True\n",
    "print(f'현재 상태는 {state}이고 타입은 {type(state)}')\n",
    "state = not state\n",
    "print(f'현재 상태의 반대는는 {state}이고 타입은 {type(state)}')"
   ]
  },
  {
   "cell_type": "markdown",
   "id": "5f6bff99",
   "metadata": {},
   "source": [
    "# 연산자(Operator)\n",
    "\n",
    "\n",
    "1. 산술 연산자: +, - ,*, /, //, %, **\n",
    "2. 논리 연산자: and, or, not, is\n",
    "3. 비교 연산자: ==, !=, <, >, <=, >=\n",
    "4. 비트 연산자: &, |, ~, ^, <<, >>"
   ]
  },
  {
   "cell_type": "markdown",
   "id": "7c88ff63",
   "metadata": {},
   "source": [
    "### 산술 연산자\n",
    "- 사칙연산 연산자\n",
    "- +: 피연산자 두 개를 더한 값을 반환\n",
    "- -: 피연산자 두 개를 뺀 값을 반환\n",
    "- *: 피연산자 두 개를 곱한 값을 반환\n",
    "- /: 나눗셈 몫(소수점을 버림)을 반환\n",
    "- //: 나눗셈 몫(소수점포함)을 반환\n",
    "- %: 나눗셈의 나머지를 반환\n",
    "- **: 제곱의 값을 반환"
   ]
  },
  {
   "cell_type": "code",
   "execution_count": null,
   "id": "cd042f54",
   "metadata": {},
   "outputs": [],
   "source": [
    "# 산술 연산자\n",
    "a = 10\n",
    "b = 5\n",
    "print(f\"덧셈: {a+b}\")\n",
    "print(f\"뺄셈: {a-b}\")\n",
    "print(f\"곱셈: {a*b}\")\n",
    "print(f\"나눗셈(정수): {a/b}\")\n",
    "print(f\"나눗셈(실수): {a//b}\")\n",
    "print(f\"나머지: {a%b}\")\n",
    "print(f\"승수: {a**b}\")"
   ]
  },
  {
   "cell_type": "markdown",
   "id": "78648a45",
   "metadata": {},
   "source": [
    "### 논리 연산자\n",
    "- 참과 거짓의 논리 여부 파악\n",
    "- and: 피연산자가 모두 참일 경우 참, 하나라도 거짓일 경우 거짓\n",
    "- or: 피연산자중 하나라도 참일 경우 참, 모두 거짓이면 거짓\n",
    "- not: 피연산자 값이 참이면 거짓, 거짓이면 참"
   ]
  },
  {
   "cell_type": "code",
   "execution_count": null,
   "id": "ecd81167",
   "metadata": {},
   "outputs": [],
   "source": [
    "# 논리 연산자\n",
    "state1 = True\n",
    "state2 = False\n",
    "print(f\"and연산: {a and b}\")\n",
    "print(f\"or연산: {a or b}\")\n",
    "print(f\"not연산: {not a}\")"
   ]
  },
  {
   "cell_type": "markdown",
   "id": "54d253c3",
   "metadata": {},
   "source": [
    "### 비교 연산자\n",
    "- 값의 대소를 비교\n",
    "- ==: 피연산자 두 개의 값이 같은지 비교\n",
    "- !=: 피연산자 두 개의 값이 다른지 비교\n",
    "- <: 좌측 피연산자 값이 우측 피연산자보다 작으면 참, 아니면 거짓\n",
    "- <=: 좌측 피연산자 값이 우측 피연산자보다 작거나 같으면 참, 아니면 거짓\n",
    "- >: 좌측 피연산자 값이 우측 피연산자보다 크면 참, 아니면 거짓\n",
    "- >=: 좌측 피연산자 값이 우측 피연산자보다 크거나 같으면 참, 아니면 거짓"
   ]
  },
  {
   "cell_type": "code",
   "execution_count": null,
   "id": "10fb6a24",
   "metadata": {},
   "outputs": [],
   "source": [
    "# 비교 연산자\n",
    "a = 24\n",
    "b = 42\n",
    "print(f\"a > b: {a > b}\")\n",
    "print(f\"a >= b: {a >= b}\")\n",
    "print(f\"a < b: {a < b}\")\n",
    "print(f\"a <= b: {a <= b}\")\n",
    "print(f\"a == b: {a == b}\")\n",
    "print(f\"a != b: {a != b}\")"
   ]
  }
 ],
 "metadata": {
  "kernelspec": {
   "display_name": "Python 3 (ipykernel)",
   "language": "python",
   "name": "python3"
  },
  "language_info": {
   "codemirror_mode": {
    "name": "ipython",
    "version": 3
   },
   "file_extension": ".py",
   "mimetype": "text/x-python",
   "name": "python",
   "nbconvert_exporter": "python",
   "pygments_lexer": "ipython3",
   "version": "3.8.10"
  }
 },
 "nbformat": 4,
 "nbformat_minor": 5
}
