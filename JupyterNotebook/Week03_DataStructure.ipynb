{
 "cells": [
  {
   "cell_type": "markdown",
   "id": "90e974ae",
   "metadata": {},
   "source": [
    "# Data Structure\n",
    "- List\n",
    "- Dictionary\n",
    "- Set\n",
    "- Tuple"
   ]
  },
  {
   "cell_type": "markdown",
   "id": "44407d7c",
   "metadata": {},
   "source": [
    " ## List\n",
    "- Linked List 구조\n",
    "- 배열과 유사\n",
    "- 순서대로 저장\n",
    "- indexing ,slicing"
   ]
  },
  {
   "cell_type": "code",
   "execution_count": 1,
   "id": "e36870f5",
   "metadata": {},
   "outputs": [
    {
     "name": "stdout",
     "output_type": "stream",
     "text": [
      "[]\n",
      "['hello', 2, 3, 4]\n"
     ]
    }
   ],
   "source": [
    "arr1 = list()\n",
    "arr2 = [\"hello\",2,3,4]\n",
    "\n",
    "print(arr1)\n",
    "print(arr2)"
   ]
  },
  {
   "cell_type": "code",
   "execution_count": 2,
   "id": "50ee9300",
   "metadata": {},
   "outputs": [
    {
     "name": "stdout",
     "output_type": "stream",
     "text": [
      "[1, 2, 3, 4, [5, 6, 7]]\n"
     ]
    },
    {
     "data": {
      "text/plain": [
       "2"
      ]
     },
     "execution_count": 2,
     "metadata": {},
     "output_type": "execute_result"
    }
   ],
   "source": [
    "arr = [1,2,3,4]\n",
    "\n",
    "arr.append([5,6,7])\n",
    "print(arr)\n",
    "\n",
    "arr[1]\n",
    "arr.pop(1)"
   ]
  },
  {
   "cell_type": "code",
   "execution_count": 3,
   "id": "ed79dc99",
   "metadata": {},
   "outputs": [
    {
     "name": "stdout",
     "output_type": "stream",
     "text": [
      "[1, 2, 3, 4, [5, 6, 7]]\n",
      "[1, 2, 3, 4, [5, 6, 7], 5, 6, 7]\n"
     ]
    },
    {
     "data": {
      "text/plain": [
       "7"
      ]
     },
     "execution_count": 3,
     "metadata": {},
     "output_type": "execute_result"
    }
   ],
   "source": [
    "arr = [1,2,3,4]\n",
    "\n",
    "arr.append([5,6,7])\n",
    "print(arr)\n",
    "\n",
    "arr.extend([5,6,7])  # arr += [5,6,7]\n",
    "print(arr)\n",
    "\n",
    "\n",
    "arr.pop()"
   ]
  },
  {
   "cell_type": "markdown",
   "id": "1ef70cb9",
   "metadata": {},
   "source": [
    " ## Dictionary\n",
    "- Hash 자료구조\n",
    "- Key, Value 구조\n",
    "- python 3.6부터 순서대로 저장\n",
    "- key는 unique, 마지막 값이 덧씌워짐\n",
    "\n",
    "```python\n",
    "# 딕셔너리에 키-값 쌍을 추가, 키만 지정하면 값에 None을 저장\n",
    "dict객체.setdefault(키, 기본값)\n",
    "\n",
    "# 딕셔너리에서 키의 값을 수정, 딕셔너리에 키가 없으면 키-값 쌍을 추가\n",
    "update(키=값)\n",
    "update(딕셔너리)\n",
    "update(리스트)\n",
    "update(튜플)\n",
    "update(반복가능한객체)\n",
    "\n",
    "# 딕셔너리에서 특정 키-값 쌍을 삭제한 뒤 값을 반환\n",
    "pop(키)\n",
    "pop(키, 기본값)\n",
    "\n",
    "# 딕셔너리에서 임의의 키-값 쌍을 삭제하고 해당 키-값 쌍을 튜플로 반환\n",
    "popitem()\n",
    "\n",
    "# 모든 키-값을 삭제\n",
    "clear()\n",
    "\n",
    "# 딕셔너리에서 특정 키의 값을 가져옴\n",
    "get(키)\n",
    "get(키, 기본값)\n",
    "\n",
    "# 딕셔너리의 키, 값을 가져옴\n",
    "items()\n",
    "keys()          \n",
    "values()\n",
    "\n",
    "# 복사\n",
    "copy()\n",
    "\n",
    "# 리스트(튜플)로 딕셔너리를 만듦\n",
    "dict.fromkeys(키리스트)\n",
    "dict.fromkeys(키리스트, 값)\n",
    "```"
   ]
  },
  {
   "cell_type": "code",
   "execution_count": 4,
   "id": "b011ebf4",
   "metadata": {},
   "outputs": [
    {
     "name": "stdout",
     "output_type": "stream",
     "text": [
      "Lee\n",
      "kim\n",
      "{'420': 'Lee', '421': 'Seo', '422': 'kim'}\n"
     ]
    }
   ],
   "source": [
    "dictionary = {'420': 'Lee', '421': 'Seo', '422': 'Lim'}\n",
    "print(dictionary['420'])\n",
    "dictionary['422'] = \"kim\"\n",
    "print(dictionary.get('422', \"hello\"))\n",
    "print(dictionary)"
   ]
  },
  {
   "cell_type": "code",
   "execution_count": 5,
   "id": "cbcfc0e0",
   "metadata": {},
   "outputs": [
    {
     "ename": "KeyError",
     "evalue": "0",
     "output_type": "error",
     "traceback": [
      "\u001b[1;31m---------------------------------------------------------------------------\u001b[0m",
      "\u001b[1;31mKeyError\u001b[0m                                  Traceback (most recent call last)",
      "Input \u001b[1;32mIn [5]\u001b[0m, in \u001b[0;36m<cell line: 1>\u001b[1;34m()\u001b[0m\n\u001b[1;32m----> 1\u001b[0m \u001b[38;5;28mprint\u001b[39m(\u001b[43mdictionary\u001b[49m\u001b[43m[\u001b[49m\u001b[38;5;241;43m0\u001b[39;49m\u001b[43m]\u001b[49m)\n",
      "\u001b[1;31mKeyError\u001b[0m: 0"
     ]
    }
   ],
   "source": [
    "print(dictionary[0])"
   ]
  },
  {
   "cell_type": "code",
   "execution_count": 6,
   "id": "11964bc9",
   "metadata": {},
   "outputs": [
    {
     "data": {
      "text/plain": [
       "[1, 2, 3, 4]"
      ]
     },
     "execution_count": 6,
     "metadata": {},
     "output_type": "execute_result"
    }
   ],
   "source": [
    "# [('420', 'Lee'), ('421', 'Seo'), ('422', 'kim')]\n",
    "key, val = ('420', 'Lee')\n",
    "\n",
    "[1,2,3,4] "
   ]
  },
  {
   "cell_type": "code",
   "execution_count": 7,
   "id": "4ea6bd19",
   "metadata": {},
   "outputs": [
    {
     "name": "stdout",
     "output_type": "stream",
     "text": [
      "420 Lee\n",
      "421 Seo\n",
      "422 kim\n"
     ]
    }
   ],
   "source": [
    "for key, val in dictionary.items():\n",
    "    print(key, val)  \n"
   ]
  },
  {
   "cell_type": "markdown",
   "id": "67aa1061",
   "metadata": {},
   "source": [
    "## Set\n",
    "- 집합\n",
    "- &, |, -, ^, <=, <, >=, >\n",
    "\n",
    "```python\n",
    "# 현재 세트가 다른 세트와 겹치지 않는지 확인\n",
    "isdisjoint(다른세트)\n",
    "\n",
    "# 세트에 요소를 추가\n",
    "add(요소)\n",
    "\n",
    "# 세트에서 특정 요소를 삭제, 없으면 에러 발생\n",
    "remove(요소)\n",
    "\n",
    "# 세트에서 특정 요소를 삭제, 요소가 없으면 그냥 넘어감\n",
    "discard(요소)\n",
    "\n",
    "# 세트에서 임의의 요소를 삭제하고 해당 요소를 반환\n",
    "pop()\n",
    "\n",
    "# 세트에서 모든 요소를 삭제\n",
    "clear()\n",
    "\n",
    "# 복사\n",
    "copy()\n",
    "```"
   ]
  },
  {
   "cell_type": "code",
   "execution_count": 8,
   "id": "9bb3e265",
   "metadata": {},
   "outputs": [
    {
     "name": "stdout",
     "output_type": "stream",
     "text": [
      "교집합: {3, 4, 5}\n",
      "합집합: {1, 2, 3, 4, 5, 6, 7}\n",
      "차집합: {1, 2}\n",
      "배타적 논리합: {1, 2, 6, 7}\n",
      "포함여부: False\n",
      "포함여부: True\n"
     ]
    }
   ],
   "source": [
    "set_a = {1,2,3,4,5}\n",
    "set_b = {3,4,5,6,7}\n",
    "set_c = {1,2,3,4,5,6,7}\n",
    "\n",
    "print(f'교집합: {set_a & set_b}')\n",
    "print(f'합집합: {set_a | set_b}')\n",
    "print(f'차집합: {set_a - set_b}')\n",
    "print(f'배타적 논리합: {set_a ^ set_b}')\n",
    "print(f'포함여부: {set_a <= set_b}')\n",
    "print(f'포함여부: {set_a <= set_c}')"
   ]
  },
  {
   "cell_type": "markdown",
   "id": "361adb9b",
   "metadata": {},
   "source": [
    "## Tuple\n",
    "- 변경 불가\n",
    "- ( ,) 필수"
   ]
  },
  {
   "cell_type": "code",
   "execution_count": 9,
   "id": "38bb5ab4",
   "metadata": {},
   "outputs": [
    {
     "name": "stdout",
     "output_type": "stream",
     "text": [
      "a:1, b:2\n",
      "a:2, b:1\n"
     ]
    }
   ],
   "source": [
    "# tuple\n",
    "a, b = (1, 2)\n",
    "print(f'a:{a}, b:{b}')\n",
    "a, b = b, a\n",
    "print(f'a:{a}, b:{b}')"
   ]
  },
  {
   "cell_type": "code",
   "execution_count": 10,
   "id": "7bb40056",
   "metadata": {},
   "outputs": [],
   "source": [
    "a = [1,2,3]\n",
    "b = [3,4,5]\n",
    "\n",
    "a, b = b,a   # a, b = ([3,4,5], [1,2,3])"
   ]
  },
  {
   "cell_type": "code",
   "execution_count": 11,
   "id": "a3ea5098",
   "metadata": {},
   "outputs": [
    {
     "name": "stdout",
     "output_type": "stream",
     "text": [
      "(1,)\n"
     ]
    }
   ],
   "source": [
    "a = (1, )\n",
    "print(a)"
   ]
  },
  {
   "cell_type": "markdown",
   "id": "2f4b291d",
   "metadata": {},
   "source": [
    " "
   ]
  },
  {
   "cell_type": "markdown",
   "id": "e80683f7",
   "metadata": {},
   "source": [
    " "
   ]
  },
  {
   "cell_type": "markdown",
   "id": "7072ae5d",
   "metadata": {},
   "source": [
    " "
   ]
  },
  {
   "cell_type": "markdown",
   "id": "2f0daf48",
   "metadata": {},
   "source": [
    " "
   ]
  },
  {
   "cell_type": "markdown",
   "id": "1e9a2cf9",
   "metadata": {},
   "source": [
    " "
   ]
  },
  {
   "cell_type": "markdown",
   "id": "291c2cee",
   "metadata": {},
   "source": [
    " "
   ]
  },
  {
   "cell_type": "markdown",
   "id": "73e984ac",
   "metadata": {},
   "source": [
    " "
   ]
  },
  {
   "cell_type": "markdown",
   "id": "f0678915",
   "metadata": {},
   "source": [
    " "
   ]
  },
  {
   "cell_type": "markdown",
   "id": "efade6bb",
   "metadata": {},
   "source": [
    " "
   ]
  },
  {
   "cell_type": "markdown",
   "id": "b21b2cea",
   "metadata": {},
   "source": [
    " "
   ]
  },
  {
   "cell_type": "markdown",
   "id": "ace6ddc6",
   "metadata": {},
   "source": [
    " "
   ]
  },
  {
   "cell_type": "markdown",
   "id": "6e46e1f7",
   "metadata": {},
   "source": [
    " "
   ]
  },
  {
   "cell_type": "markdown",
   "id": "ae306a1c",
   "metadata": {},
   "source": [
    " "
   ]
  },
  {
   "cell_type": "markdown",
   "id": "0996b2fc",
   "metadata": {},
   "source": [
    " "
   ]
  },
  {
   "cell_type": "markdown",
   "id": "0543e97e",
   "metadata": {},
   "source": [
    " "
   ]
  },
  {
   "cell_type": "markdown",
   "id": "e28a8d00",
   "metadata": {},
   "source": [
    " "
   ]
  },
  {
   "cell_type": "markdown",
   "id": "62bf42eb",
   "metadata": {},
   "source": [
    " "
   ]
  },
  {
   "cell_type": "markdown",
   "id": "b3b3265e",
   "metadata": {},
   "source": [
    " "
   ]
  },
  {
   "cell_type": "markdown",
   "id": "a899c5e0",
   "metadata": {},
   "source": [
    " "
   ]
  },
  {
   "cell_type": "markdown",
   "id": "5586179e",
   "metadata": {},
   "source": [
    " "
   ]
  }
 ],
 "metadata": {
  "kernelspec": {
   "display_name": "Python 3 (ipykernel)",
   "language": "python",
   "name": "python3"
  },
  "language_info": {
   "codemirror_mode": {
    "name": "ipython",
    "version": 3
   },
   "file_extension": ".py",
   "mimetype": "text/x-python",
   "name": "python",
   "nbconvert_exporter": "python",
   "pygments_lexer": "ipython3",
   "version": "3.8.10"
  }
 },
 "nbformat": 4,
 "nbformat_minor": 5
}
