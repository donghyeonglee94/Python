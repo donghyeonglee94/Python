{
 "cells": [
  {
   "cell_type": "markdown",
   "id": "9faa417a",
   "metadata": {},
   "source": [
    "# Variable\n",
    "- 변수: 변하는 수\n",
    "- 변수 선언 방법: 변수명 = 자료형"
   ]
  },
  {
   "cell_type": "markdown",
   "id": "4e845057",
   "metadata": {},
   "source": [
    "# Data Type\n",
    "- 자료형: 자료의 형태\n",
    "- Primitive Type(기본 타입)\n",
    "  - Number(숫자): Integer(10) / Float(10.0)\n",
    "  - String(문자열): \"Hello\"\n",
    "  - Boolean: True / False\n",
    "- type()"
   ]
  },
  {
   "cell_type": "markdown",
   "id": "aa4abd0b",
   "metadata": {},
   "source": [
    "# String\n",
    "- 한 줄 입력 '', \"\"\n",
    "- 여러 줄 입력: '''''', \"\"\"\"\"\"\n",
    "- 포매팅:\"%d\" %(변수, ...)\n",
    "- 포매팅:'{}'.format(변수,...)\n",
    "- 포매팅 출력: f'{변수}' \n",
    "- escape sequence: \\n(한줄띄기), \\t(탭)"
   ]
  },
  {
   "cell_type": "markdown",
   "id": "d3c7fbb4",
   "metadata": {},
   "source": [
    "# Operator\n",
    "- 산술 연산자: +, - ,\\*, /, //, %, **\n",
    "- 논리 연산자: and, or, not, is\n",
    "- 비교 연산자: ==, !=, <, >, <=, >=\n",
    "- 비트 연산자: &, |, ~, ^, <<, >>"
   ]
  },
  {
   "cell_type": "markdown",
   "id": "c7e8dcd5",
   "metadata": {},
   "source": [
    "---"
   ]
  },
  {
   "cell_type": "markdown",
   "id": "d9297842",
   "metadata": {},
   "source": [
    "# Data Structure"
   ]
  },
  {
   "cell_type": "markdown",
   "id": "89558b91",
   "metadata": {},
   "source": [
    "### List\n",
    "- 연속되어 저장\n",
    "- 순서대로 저장\n",
    "- indexing ,slicing\n",
    "- list(), []: 빈 리스트 생성\n",
    "- .append(val): 리스트 마지막 인덱스 뒤에 val을 추가\n",
    "- .extend(): +=와 동일, 리스트 자체를 추가하는 것이 아닌 리스트 내의 값을 추가\n",
    "- .pop(index): 해당 인덱스 값을 반환하고 리스트 내에서 삭제"
   ]
  },
  {
   "cell_type": "markdown",
   "id": "70dcee44",
   "metadata": {},
   "source": [
    "### Dictionary\n",
    "- 순서대로 저장\n",
    "- 키 값 중복 x\n",
    "-  dict()\n",
    "- .update({key: val, ...})"
   ]
  },
  {
   "cell_type": "markdown",
   "id": "7e9582fe",
   "metadata": {},
   "source": [
    "### Set\n",
    "- 중복 허용 안 함\n",
    "- set()\n",
    "- &: 교집합\n",
    "- |: 합집합\n",
    "- ^: exclusive or\n",
    "- -: 차집합\n",
    "- <=: 포함"
   ]
  },
  {
   "cell_type": "markdown",
   "id": "0ac0840c",
   "metadata": {},
   "source": [
    "### Tuple"
   ]
  },
  {
   "cell_type": "markdown",
   "id": "24a00c63",
   "metadata": {},
   "source": [
    "---"
   ]
  },
  {
   "cell_type": "markdown",
   "id": "25a76ff3",
   "metadata": {},
   "source": [
    "# Control Statement(제어문)\n",
    "- Conditional Statement: if ~ elif ~ else\n",
    "- Loop: while, for ~ in (iterable 객체)\n",
    "- Branch: break, continue"
   ]
  },
  {
   "cell_type": "markdown",
   "id": "e6dc1da1",
   "metadata": {},
   "source": [
    "## Conditional Statement(조건문)\n",
    "- 조건에 따라 분기(나누어짐)  \n",
    "- 조건이 true일 경우 실행\n",
    "\n",
    "```python\n",
    "if 조건식:\n",
    "    실행 코드\n",
    "```\n",
    "---\n",
    "```python\n",
    "if 조건식:\n",
    "    실행 코드\n",
    "else:\n",
    "    실행 코드\n",
    "```\n",
    "---\n",
    "```python\n",
    "if 조건식:\n",
    "    실행 코드\n",
    "elif 조건식:\n",
    "    실행 코드\n",
    "else:\n",
    "    실행 코드\n",
    "```"
   ]
  },
  {
   "cell_type": "markdown",
   "id": "d671242d",
   "metadata": {},
   "source": [
    "## Loop(반복문)\n",
    "- 조건이 true인 동안 반복\n",
    "- 반드시 탈출 조건 필요!!!\n",
    "\n",
    "```python\n",
    "while 조건식:\n",
    "    실행코드\n",
    "```\n",
    "```python\n",
    "for 변수 in (iterable 객체):\n",
    "    실행 코드\n",
    "```"
   ]
  },
  {
   "cell_type": "markdown",
   "id": "5b1c4077",
   "metadata": {},
   "source": [
    "---"
   ]
  },
  {
   "cell_type": "markdown",
   "id": "8809cc44",
   "metadata": {},
   "source": [
    "# Function(함수)\n",
    "\n",
    "- default 설정 \n",
    "- args: tuple로 받아서 사용\n",
    "- kwargs: dictionary로 받아서 사용\n",
    "- lambda\n",
    "- map/filter/reduce\n",
    "- global, nonlocal, locals()\n",
    "- 클로저\n",
    "- decorator\n",
    "- generator\n",
    "\n",
    "```python\n",
    "def 함수명(매개변수, *args ...):\n",
    "    실행 코드\n",
    "    return 반환값\n",
    "```"
   ]
  },
  {
   "cell_type": "markdown",
   "id": "0c9e2df6",
   "metadata": {},
   "source": [
    "---"
   ]
  },
  {
   "cell_type": "markdown",
   "id": "869650de",
   "metadata": {},
   "source": [
    "# Class(클래스)\n",
    "\n",
    "- 클래스, 객체(인스턴스)\n",
    "- 클래스변수, 멤버변수, 멤버함수(메소드)\n",
    "- 생성자, 소멸자\n",
    "- 상속\n",
    "- 오버라이딩\n",
    "- 매직 메서드\n",
    "- getter/setter\n",
    "- 정적 메서드: 클래스 변수, 멤버 변수 사용 불가\n",
    "- 클래스 메서드: 멤버 변수 사용 불가\n",
    "\n",
    "```python\n",
    "class 클래스명(부모 클래스):\n",
    "    변수 = 값         #클래스 변수\n",
    "    \n",
    "    # 생성자\n",
    "    def __init__(self,매개변수, ...):\n",
    "        super().__init__(인자, ...)\n",
    "        self.변수 = 매개변수\n",
    "        ...\n",
    "        ...\n",
    "    # 소멸자\n",
    "    def __del__(self):\n",
    "        print(\"클래스가 소멸되었습니다.\")\n",
    "\n",
    "    # 메소드\n",
    "    def 메소드(self, 매개변수, ...):\n",
    "        실행 코드\n",
    "            \n",
    "    # getter\n",
    "    @property\n",
    "    def 변수명(self):\n",
    "        return self.__변수명\n",
    "    \n",
    "    # setter\n",
    "    @변수명.setter\n",
    "    def 변수명(self, value):\n",
    "        self.__변수명 = value\n",
    "        \n",
    "    # 클래스 메소드\n",
    "    def 메소드명(cls, 매개변수, ...):\n",
    "        return cls(인자,...)\n",
    "    \n",
    "    # 정적 메소드\n",
    "    def 메소드명(매개변수, ...):\n",
    "        실행 코드\n",
    "\n",
    "```"
   ]
  },
  {
   "cell_type": "markdown",
   "id": "46154195",
   "metadata": {},
   "source": [
    "---"
   ]
  },
  {
   "cell_type": "markdown",
   "id": "05a3935e",
   "metadata": {},
   "source": [
    "# Module\n",
    "- package: __init__.py를 가진 폴더\n",
    "- module: .py인 파일\n",
    "- from ~ import ~ as 별칭"
   ]
  },
  {
   "cell_type": "markdown",
   "id": "9d3e7e5b",
   "metadata": {},
   "source": [
    "---"
   ]
  },
  {
   "cell_type": "markdown",
   "id": "c67d28e0",
   "metadata": {},
   "source": [
    "# File\n",
    "- open('파일경로', '상태'): rwa, tb+\n",
    "- f.write() / f.read() / f.readline() /f.readlines()\n",
    "- with ~ as 별칭"
   ]
  },
  {
   "cell_type": "markdown",
   "id": "b574aa1f",
   "metadata": {},
   "source": [
    "---"
   ]
  },
  {
   "cell_type": "markdown",
   "id": "df2d0ea0",
   "metadata": {},
   "source": [
    "# Exception\n",
    "- try ~ except ~ finally\n",
    "- raise"
   ]
  }
 ],
 "metadata": {
  "kernelspec": {
   "display_name": "Python 3 (ipykernel)",
   "language": "python",
   "name": "python3"
  },
  "language_info": {
   "codemirror_mode": {
    "name": "ipython",
    "version": 3
   },
   "file_extension": ".py",
   "mimetype": "text/x-python",
   "name": "python",
   "nbconvert_exporter": "python",
   "pygments_lexer": "ipython3",
   "version": "3.8.10"
  }
 },
 "nbformat": 4,
 "nbformat_minor": 5
}
