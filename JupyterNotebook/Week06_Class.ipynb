{
 "cells": [
  {
   "cell_type": "markdown",
   "id": "82ac87b1",
   "metadata": {},
   "source": [
    "# 클래스\n",
    "- 클래스는 객체의 틀\n",
    "- 객체(Instance): 클래스가 구체화된 것\n",
    "- 클래스는 속성(멤버 변수)와 행위/기능(멤버함수, 메서드)으로 구성\n",
    "- 클래스 정의: class 키워드로 정의\n",
    "- 클래스 생성: 클래스명()으로 생성\n",
    "- 클래스 멤버 접근: .(점)으로 접근\n",
    "- self 키워드: 메서드내에서 멤버 접근\n",
    "- isinstance: 참이면 True, 거짓이면 False\n",
    "- 인스터스 생성후 속성 추가 가능\n",
    "- 공개 속성 설정: \\_\\_slots__ = ['속성1',' 속성2', ...]\n",
    "- 비공개 속성 설정: 언더스코어(\\_) 2개 사용, 클래스 안에서만 접근 가능\n",
    " \n",
    "```python\n",
    "# 클래스 정의\n",
    "class class_name:\n",
    "    \n",
    "    # 생성자(Constructor)\n",
    "    def __init__(self, 매개변수 목록):\n",
    "        self.멤버변수 = 매개변수1\n",
    "        ...\n",
    "        \n",
    "    # 메서드(method)\n",
    "    def method(self, 매개변수 목록):\n",
    "        실행 코드\n",
    "        return\n",
    "    \n",
    "    # 매직 메서드(magic method)\n",
    "    def __str__(self)\n",
    "        return 문자열\n",
    "    \n",
    "# 클래스 생성\n",
    "변수 = class_name()\n",
    "\n",
    "# 클래스 멤버 접근\n",
    "변수.멤버변수\n",
    "변수.method()\n",
    "\n",
    "# isinstance\n",
    "isinstance(인스턴스, 클래스) \n",
    "\n",
    "# 속성 추가\n",
    "class class_name:\n",
    "    pass\n",
    "\n",
    "a = class_name()\n",
    "a.추가변수 = 값        # 멤버 변수 추가\n",
    "\n",
    "# 공개 변수 추가\n",
    "class class_name:\n",
    "    __slots__ = ['속성1', '속성2']\n",
    "\n",
    "a = class_name()\n",
    "a.속성1 = 값        # 멤버 변수 추가\n",
    "\n",
    "# 비공개 변수\n",
    "class class_name:\n",
    "    def __init(self, *args):\n",
    "        self.__멤버변수 = args[0]\n",
    "    def __method(self):\n",
    "        print(\"hello\")\n",
    "```"
   ]
  },
  {
   "cell_type": "code",
   "execution_count": 21,
   "id": "0d4fb9c4",
   "metadata": {},
   "outputs": [],
   "source": [
    "# 클래스 정의\n",
    "class Animal:\n",
    "    def __init__(self, name=None, age=1):\n",
    "        self.name = name\n",
    "        self.age = age\n",
    "    \n",
    "    def say(self, words = \"안녕\"):\n",
    "        print(f'{self.name}가 {words}이라고 말했다.')"
   ]
  },
  {
   "cell_type": "code",
   "execution_count": 22,
   "id": "c9c2a6ca",
   "metadata": {},
   "outputs": [
    {
     "name": "stdout",
     "output_type": "stream",
     "text": [
      "곰돌이가 안녕이라고 말했다.\n"
     ]
    }
   ],
   "source": [
    "b1 = Animal('곰돌이', 3)\n",
    "b1.say()"
   ]
  },
  {
   "cell_type": "code",
   "execution_count": 23,
   "id": "d307f91f",
   "metadata": {},
   "outputs": [
    {
     "name": "stdout",
     "output_type": "stream",
     "text": [
      "야옹이가 야옹이라고 말했다.\n"
     ]
    }
   ],
   "source": [
    "c1 = Animal('야옹이', 1)\n",
    "c1.say('야옹')"
   ]
  },
  {
   "cell_type": "markdown",
   "id": "134aeaef",
   "metadata": {},
   "source": [
    "# 상속\n",
    "- 상속: 부모 클래스의 속성과 기능을 물려 받아서 사용 가능\n",
    "- 오버라이딩: 부모 클래스의 메소드를 상속받아 덧씌워서 사용\n",
    "- super 키워드: 부모 클래스의 속성과 메소드를 사용\n",
    "\n",
    "```python\n",
    "# 부모 클래스 정의\n",
    "class parent_class:\n",
    "    def __init__(self, 매개변수 목록):\n",
    "        self.멤버변수 = 매개변수1\n",
    "        ...\n",
    "    def method(self, 매개변수 목록):\n",
    "        실행 코드\n",
    "        return\n",
    "    \n",
    "#상속 클래스 정의\n",
    "class derived_class(parent_class):\n",
    "    ...\n",
    "    def method(self, 매개변수 목록):\n",
    "        실행 코드\n",
    "        return\n",
    "    \n",
    "변수1 = parent_class()\n",
    "변수2 = derived_class()   # parent_class의 멤버 모두 상속 받은 Instance\n",
    "변수1.method()            # parent_class의 method 실행\n",
    "변수2.method()            # derived_class의 method가 오버라이딩되어 실행\n",
    "```"
   ]
  },
  {
   "cell_type": "code",
   "execution_count": 29,
   "id": "e24e1cb8",
   "metadata": {},
   "outputs": [],
   "source": [
    "class Cat(Animal):\n",
    "    def __init__(self, name, age, weight, height):\n",
    "        super().__init__(name, age);\n",
    "        self.weight = weight\n",
    "        self.height = height\n",
    "        \n",
    "    def say(self):\n",
    "        print(f'{self.name}가 울었다')"
   ]
  },
  {
   "cell_type": "code",
   "execution_count": 30,
   "id": "70b4e505",
   "metadata": {},
   "outputs": [],
   "source": [
    "c2 = Cat(\"야옹이\", 12, 100, 120)"
   ]
  },
  {
   "cell_type": "code",
   "execution_count": 31,
   "id": "2268d301",
   "metadata": {},
   "outputs": [
    {
     "name": "stdout",
     "output_type": "stream",
     "text": [
      "야옹이\n"
     ]
    }
   ],
   "source": [
    "print(c2.name)"
   ]
  },
  {
   "cell_type": "markdown",
   "id": "ebf9c5ec",
   "metadata": {},
   "source": [
    "# 정적, 클래스 메서드"
   ]
  },
  {
   "cell_type": "code",
   "execution_count": null,
   "id": "bf85db21",
   "metadata": {},
   "outputs": [],
   "source": []
  }
 ],
 "metadata": {
  "kernelspec": {
   "display_name": "Python 3 (ipykernel)",
   "language": "python",
   "name": "python3"
  },
  "language_info": {
   "codemirror_mode": {
    "name": "ipython",
    "version": 3
   },
   "file_extension": ".py",
   "mimetype": "text/x-python",
   "name": "python",
   "nbconvert_exporter": "python",
   "pygments_lexer": "ipython3",
   "version": "3.8.10"
  }
 },
 "nbformat": 4,
 "nbformat_minor": 5
}
