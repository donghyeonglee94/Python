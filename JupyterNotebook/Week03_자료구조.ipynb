{
 "cells": [
  {
   "cell_type": "markdown",
   "id": "6227ada2",
   "metadata": {},
   "source": [
    "# 자료구조\n",
    "- 파이썬에서는 여러가지 자료형을 담아두는 자료구조를 제공\n",
    "- List, Dictionary, Tuple, Set"
   ]
  },
  {
   "cell_type": "markdown",
   "id": "9f3bd741",
   "metadata": {},
   "source": [
    "### List\n",
    "- 여러가지 자료형을 담아두는 자료구조\n",
    "\n",
    "```python\n",
    "\n",
    "\n",
    "```"
   ]
  },
  {
   "cell_type": "code",
   "execution_count": null,
   "id": "9b88c574",
   "metadata": {},
   "outputs": [],
   "source": [
    "list_data = list()\n",
    "list.append(1)\n",
    "list.extend([2,3,4])\n",
    "print(list[0])\n",
    "list.pop()\n",
    "print(list)"
   ]
  },
  {
   "cell_type": "markdown",
   "id": "1d6f59a2",
   "metadata": {},
   "source": [
    "### Dictionary\n",
    "- Key와 Value 형태로 자료를 담아두는 자료구조\n",
    "- Key는 중복을 허용하지 않음\n",
    "- 저장하는 순서 유지\n",
    "\n",
    "```python\n",
    "\n",
    "\n",
    "```"
   ]
  },
  {
   "cell_type": "code",
   "execution_count": null,
   "id": "d6f25abb",
   "metadata": {},
   "outputs": [],
   "source": []
  },
  {
   "cell_type": "markdown",
   "id": "4148e618",
   "metadata": {},
   "source": [
    "### Tuple\n",
    "- \n",
    "\n",
    "\n",
    "```python\n",
    "tuple_data = tuple()\n",
    "```"
   ]
  },
  {
   "cell_type": "code",
   "execution_count": null,
   "id": "25629f1a",
   "metadata": {},
   "outputs": [],
   "source": []
  },
  {
   "cell_type": "markdown",
   "id": "28b8e00c",
   "metadata": {},
   "source": [
    "### Set\n",
    "- 집합 자료구조\n",
    "- 중복된 값을 허용하지 않음\n",
    "\n",
    "```python\n",
    "set1 = set()\n",
    "요소 추가 : set1.add(val)\n",
    "요소 삭제 : set1.remove(val) / set1.discard(val)\n",
    "요소 반환 : set1.pop()\n",
    "모든 요소 삭제: set1.clear()\n",
    "    \n",
    "교집합 : set1 & set2\n",
    "합집합 : set1 | set2\n",
    "차집합 : set1 - set2\n",
    "XOR : set1 ^ set2\n",
    "상위 집합 : set1 <= set2\n",
    "같은 집합 : set1 == set2\n",
    "중복 여부 : set1.isdisjoint(set2)\n",
    "\n",
    "\n",
    "```"
   ]
  },
  {
   "cell_type": "code",
   "execution_count": null,
   "id": "2236e890",
   "metadata": {},
   "outputs": [],
   "source": []
  }
 ],
 "metadata": {
  "kernelspec": {
   "display_name": "Python 3 (ipykernel)",
   "language": "python",
   "name": "python3"
  },
  "language_info": {
   "codemirror_mode": {
    "name": "ipython",
    "version": 3
   },
   "file_extension": ".py",
   "mimetype": "text/x-python",
   "name": "python",
   "nbconvert_exporter": "python",
   "pygments_lexer": "ipython3",
   "version": "3.8.10"
  }
 },
 "nbformat": 4,
 "nbformat_minor": 5
}
