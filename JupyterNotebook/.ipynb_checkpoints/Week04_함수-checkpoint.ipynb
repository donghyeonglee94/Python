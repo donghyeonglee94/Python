{
 "cells": [
  {
   "cell_type": "markdown",
   "id": "2cc419a8",
   "metadata": {},
   "source": [
    "# 함수(Function)\n",
    "- 중복되는 코드를 간결하게 묶어줌\n",
    "- 반환 값\n",
    "\n",
    "### 학습 목표\n",
    "- 함수\n",
    "- global / nonlocal\n",
    "- 매개변수, 인자, default값\n",
    "- 가변인자(\\*args, \\*\\*kwargs)\n",
    "- 람다식 : lambda\n",
    "- map / filter / reduce\n",
    "- 클로저\n",
    "- 데코레이터\n",
    "- 제너레이터\n",
    "- 덕 타이핑"
   ]
  },
  {
   "cell_type": "markdown",
   "id": "97f011ea",
   "metadata": {},
   "source": [
    "### 함수\n",
    "- 중복되는 코드를 간결하게 묶어줌\n",
    "- 반환 값\n",
    "\n",
    "```python\n",
    "def 함수명(매개변수1 = val, ...):\n",
    "    실행 코드\n",
    "    return  \n",
    "```"
   ]
  },
  {
   "cell_type": "code",
   "execution_count": null,
   "id": "adc33ff2",
   "metadata": {},
   "outputs": [],
   "source": [
    "# 함수 선언\n",
    "def check(x):\n",
    "    if x <= 5:\n",
    "        return '평균 이하'\n",
    "    elif x <= 8:\n",
    "        return '평균'\n",
    "    else:\n",
    "        return '우수'\n",
    "\n",
    "\n",
    "x = 10\n",
    "print(check(x))\n",
    "\n",
    "x = 3\n",
    "print(check(x))"
   ]
  },
  {
   "cell_type": "markdown",
   "id": "188e47e6",
   "metadata": {},
   "source": [
    "### 가변인자(*args, **kwargs)\n",
    "\n",
    "```python\n",
    "# args: tuple로 받음\n",
    "def 함수명(*args):\n",
    "    실행 코드\n",
    "    return  \n",
    "\n",
    "# kwargs: dict로 받음\n",
    "def 함수명(**kwargs):\n",
    "    실행 코드\n",
    "    return  \n",
    "```"
   ]
  },
  {
   "cell_type": "code",
   "execution_count": null,
   "id": "a14b0df5",
   "metadata": {},
   "outputs": [],
   "source": [
    "def add(*args):\n",
    "    result = 0\n",
    "    for i in args:\n",
    "        result += i\n",
    "    return result\n",
    "\n",
    "c = add(1,2,3,4,5)\n",
    "print(c)"
   ]
  },
  {
   "cell_type": "markdown",
   "id": "f23a0244",
   "metadata": {},
   "source": [
    "### 람다식\n",
    "\n",
    "```python\n",
    "# 람다식: if 사용시 반드시 else 포함\n",
    "lambda 매개변수1, 매개변수2: 반환값\n",
    "lambda 매개변수1, 매개변수2: 반환값1 if 조건식1 else 반환값2 if 조건식2 else 반환값3\n",
    "```"
   ]
  },
  {
   "cell_type": "code",
   "execution_count": null,
   "id": "06ac5351",
   "metadata": {},
   "outputs": [],
   "source": []
  },
  {
   "cell_type": "markdown",
   "id": "413b8167",
   "metadata": {},
   "source": [
    "### global / nonlocal\n",
    "- global 변수명: 함수내 변수를 전역 변수로 사용\n",
    "- nonlocal 변수명: 함수내에서 가장 가까운 변수를 사용\n",
    "\n",
    "(+) locals()를 이용하면 현재 namespace 출력  \n",
    "(+) globals()를 이용하면 전역변수들 출력"
   ]
  },
  {
   "cell_type": "code",
   "execution_count": null,
   "id": "94b75cc1",
   "metadata": {},
   "outputs": [],
   "source": []
  },
  {
   "cell_type": "markdown",
   "id": "97ad5ac3",
   "metadata": {},
   "source": [
    "### map, filter, reduce\n",
    "```python\n",
    "map(함수, 객체1, ...): 조건에 맞게 객체 원소를 바꿔서 반환\n",
    "filter(함수, 객체): 조건이 true인 값만 반환\n",
    "functools.reduce(함수, 객체): 누적된 값 반환\n",
    "```"
   ]
  },
  {
   "cell_type": "code",
   "execution_count": null,
   "id": "98bc15c9",
   "metadata": {},
   "outputs": [],
   "source": []
  },
  {
   "cell_type": "markdown",
   "id": "afd09915",
   "metadata": {},
   "source": [
    "### 클로저, nonlocal(가까운 지역변수)\n",
    "\n",
    "```python\n",
    "def 함수명1():\n",
    "    실행 코드\n",
    "    def 함수명2():\n",
    "        nonlocal 변수      # 바로 바깥 함수의 변수 바인딩\n",
    "        실행 코드\n",
    "    return 함수명2\n",
    "```"
   ]
  },
  {
   "cell_type": "code",
   "execution_count": null,
   "id": "ab0121d1",
   "metadata": {},
   "outputs": [],
   "source": []
  },
  {
   "cell_type": "markdown",
   "id": "7a080450",
   "metadata": {},
   "source": []
  },
  {
   "cell_type": "code",
   "execution_count": null,
   "id": "046fe7d9",
   "metadata": {},
   "outputs": [],
   "source": []
  }
 ],
 "metadata": {
  "kernelspec": {
   "display_name": "Python 3 (ipykernel)",
   "language": "python",
   "name": "python3"
  },
  "language_info": {
   "codemirror_mode": {
    "name": "ipython",
    "version": 3
   },
   "file_extension": ".py",
   "mimetype": "text/x-python",
   "name": "python",
   "nbconvert_exporter": "python",
   "pygments_lexer": "ipython3",
   "version": "3.8.10"
  }
 },
 "nbformat": 4,
 "nbformat_minor": 5
}
