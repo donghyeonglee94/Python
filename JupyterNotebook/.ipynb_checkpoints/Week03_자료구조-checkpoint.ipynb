{
 "cells": [
  {
   "cell_type": "markdown",
   "id": "6227ada2",
   "metadata": {},
   "source": [
    "# 자료구조\n",
    "- 파이썬에서는 여러가지 자료형을 담아두는 자료구조를 제공\n",
    "\n",
    "### 학습 목표\n",
    "- List\n",
    "- Dictionary\n",
    "- Tuple\n",
    "- Set"
   ]
  },
  {
   "cell_type": "markdown",
   "id": "9f3bd741",
   "metadata": {},
   "source": [
    "### List\n",
    "- 여러가지 자료형을 담아두는 자료구조\n",
    "- 중첩 가능\n",
    "\n",
    "```python\n",
    "lst1 = list()\n",
    "요소 추가 : lst1.append(val) \n",
    "인덱싱 : lst1[idx1][idx2]\n",
    "슬라이싱 : lst1[idx1:idx2]\n",
    "덧셈 : lst1.extend([val, val])\n",
    "반복(얕은 복사) : lst1 * 숫자\n",
    "수정 : lst1[idx] = val\n",
    "삭제 : del lst1[idx] / lst1.remove(val)\n",
    "반환후 제거 : lst1.pop(idx)\n",
    "정렬 : lst1.sort(reverse = True, key = lambda x:x)\n",
    "뒤집기 : lst1.reverse()\n",
    "위치 반환 : lst1.index(val)\n",
    "삽입 : lst1.insert(idx, val)\n",
    "개수 : lst1.count(val)\n",
    "```"
   ]
  },
  {
   "cell_type": "code",
   "execution_count": null,
   "id": "360a76d9",
   "metadata": {},
   "outputs": [],
   "source": [
    "lst1 = list()\n",
    "lst1 += [1,2,3,4,5,6]\n",
    "print(lst1)\n",
    "lst.insert(3, 10)\n",
    "print(lst1)\n",
    "lst.reverse()\n",
    "print(lst1)\n",
    "print(lst1.pop())"
   ]
  },
  {
   "cell_type": "markdown",
   "id": "1d6f59a2",
   "metadata": {},
   "source": [
    "### Dictionary\n",
    "- Key와 Value 형태로 자료를 담아두는 자료구조\n",
    "- Key는 중복을 허용하지 않음\n",
    "- 저장하는 순서 유지\n",
    "- python 3.6이상부터 순서 존재\n",
    "\n",
    "1. 초기화\n",
    "2. 삽입 / 삭제\n",
    "3. 접근\n",
    "\n",
    "```python\n",
    "dict1 = dict()     # dict1= {key1: val1, key2: val2, ...}\n",
    "요소 추가 : dict1[key] = val\n",
    "요소 삭제 : del dict1[key]\n",
    "요소 접근 : dict1[key] / dict1.get(key, val)\n",
    "요소 전체 접근 : dict1.keys() / dict1.values() / dict1.items()\n",
    "요소 모두 삭제 : dict1.clear()\n",
    "```"
   ]
  },
  {
   "cell_type": "code",
   "execution_count": null,
   "id": "d6f25abb",
   "metadata": {},
   "outputs": [],
   "source": [
    "dict1 = dict()\n",
    "dict1[\"lee\"] = 28\n",
    "dict1[\"kim\"] = 30\n",
    "dict1[\"goo\"] = 25\n",
    "print(dict1)"
   ]
  },
  {
   "cell_type": "markdown",
   "id": "4148e618",
   "metadata": {},
   "source": [
    "### Tuple\n",
    "- 값 변경이 불가\n",
    "- 값이 1개여도 , 필요\n",
    "- 요소 변경, 삭제 불가\n",
    "\n",
    "```python\n",
    "tuple1 = tuple()\n",
    "요소 접근 : tuple1[idx]\n",
    "슬라이싱 : tuple1[idx:]\n",
    "덧셈 : tuple1 + tuple2\n",
    "곱셈 : tuple1 * 숫자\n",
    "```"
   ]
  },
  {
   "cell_type": "code",
   "execution_count": null,
   "id": "25629f1a",
   "metadata": {},
   "outputs": [],
   "source": [
    "t1 = ()\n",
    "t2 = (1,)\n",
    "t3 = (1, 2, 3)\n",
    "t4 = 1, 2, 3\n",
    "t5 = ('a', 'b', ('ab', 'cd'))"
   ]
  },
  {
   "cell_type": "code",
   "execution_count": null,
   "id": "db4c900e",
   "metadata": {},
   "outputs": [],
   "source": [
    "print(t1[0])\n",
    "print(t1[1:])"
   ]
  },
  {
   "cell_type": "markdown",
   "id": "28b8e00c",
   "metadata": {},
   "source": [
    "### Set\n",
    "- 집합 자료구조\n",
    "- 중복된 값을 허용하지 않음\n",
    "\n",
    "```python\n",
    "set1 = set()\n",
    "요소 추가 : set1.add(val) / set1.update([val, val,...])\n",
    "요소 삭제 : set1.remove(val) / set1.discard(val)\n",
    "요소 반환 : set1.pop()\n",
    "모든 요소 삭제: set1.clear()\n",
    "    \n",
    "교집합 : set1 & set2\n",
    "합집합 : set1 | set2\n",
    "차집합 : set1 - set2\n",
    "XOR : set1 ^ set2\n",
    "상위 집합 : set1 <= set2\n",
    "같은 집합 : set1 == set2\n",
    "중복 여부 : set1.isdisjoint(set2)\n",
    "```"
   ]
  },
  {
   "cell_type": "code",
   "execution_count": null,
   "id": "2236e890",
   "metadata": {},
   "outputs": [],
   "source": [
    "set1 = {1,2,3,4}\n",
    "set2 = {4,5,6,7}\n",
    "print(set1 & set2)\n",
    "print(set1 | set2)\n",
    "print(set1 - set2)\n",
    "print(set1 ^ set2)"
   ]
  }
 ],
 "metadata": {
  "kernelspec": {
   "display_name": "Python 3 (ipykernel)",
   "language": "python",
   "name": "python3"
  },
  "language_info": {
   "codemirror_mode": {
    "name": "ipython",
    "version": 3
   },
   "file_extension": ".py",
   "mimetype": "text/x-python",
   "name": "python",
   "nbconvert_exporter": "python",
   "pygments_lexer": "ipython3",
   "version": "3.8.10"
  }
 },
 "nbformat": 4,
 "nbformat_minor": 5
}
