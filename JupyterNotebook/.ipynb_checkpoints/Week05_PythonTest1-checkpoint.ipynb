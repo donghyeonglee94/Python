{
 "cells": [
  {
   "cell_type": "markdown",
   "id": "4d895550",
   "metadata": {},
   "source": [
    "### Variable && Data Type\n",
    "- a라는 변수에 숫자 10을 대입하고 출력하세요\n",
    "- content라는 변수에 Hello 문자열을 입력하고 출력하세요"
   ]
  },
  {
   "cell_type": "markdown",
   "id": "760a97b6",
   "metadata": {},
   "source": [
    "### Operator\n",
    "- x, y에 5와 2를 할당하고 산술 연산처리 결과를 모두 출력하세요\n",
    "- x, y에 4와 3을 넣고 비교 연산처리 결과를 모두 출력하세요\n",
    "- state1, state2에 참, 거짓 값을 넣고 논리 연산 결과를 모두 출력하세요"
   ]
  },
  {
   "cell_type": "markdown",
   "id": "f4cc4965",
   "metadata": {},
   "source": [
    "### Data Structure\n",
    "- list_data란 변수에 빈 리스트를 선언하세요\n",
    "- list_data에 1~10까지 정수를 추가하세요\n",
    "- list_data에서 3을 제거하세요\n",
    "- dict_data란 변수에 빈 dictionary를 선언하세요\n",
    "- dict_data에 {'cat':10000}, {'dog':9000}을 추가하세요\n",
    "- dict_data에 키들을 출력하세요\n",
    "- dict_data에 값들을 출력하세요\n",
    "- dict_data에 키와 값 쌍을 모두 출력하세요\n",
    "- tuple_data란 변수에 (1,2,3)을 선언 및 초기화하세요\n",
    "- tuple_data를 이용하여 a, b, c에 1, 2, 3을 할당하세요\n",
    "- set_data에 빈 집합을 선언하세요\n",
    "- set_data1={2,4,6,8,10}, set_data2={3,6,9}로 초기화한 뒤 집합 연산의 결과를 출력하세요"
   ]
  },
  {
   "cell_type": "markdown",
   "id": "0553f45f",
   "metadata": {},
   "source": [
    "### Control Statement\n",
    "- 구구단을 출력하세요\n",
    "- 구구단중 8단을 제외하고 출력하세요\n",
    "- 입력 받은 문자열을 그대로 출력하고 \"end\" 문자열을 입력받으면 종료되는 코드를 구현하세요"
   ]
  },
  {
   "cell_type": "markdown",
   "id": "ab1386d0",
   "metadata": {},
   "source": [
    "### Function\n",
    "- 리스트를 받아 값을 모두 더하는 함수를 만들어보세요\n",
    "- 튜플을 받아 값을 모두 곲하는 함수를 만들어보세요\n",
    "- 딕셔너리를 받아 특정 키에 해당하는 값을 출력하는 함수를 만들어 보세요"
   ]
  },
  {
   "cell_type": "markdown",
   "id": "e546c25e",
   "metadata": {},
   "source": [
    "### Advanced\n",
    "- 동물 종류과 가격을 입력을 받아 딕셔너리를 만들고 원하는 동물 종류를 입력 받아 출력하는 함수를 만들어보세요"
   ]
  }
 ],
 "metadata": {
  "kernelspec": {
   "display_name": "Python 3 (ipykernel)",
   "language": "python",
   "name": "python3"
  },
  "language_info": {
   "codemirror_mode": {
    "name": "ipython",
    "version": 3
   },
   "file_extension": ".py",
   "mimetype": "text/x-python",
   "name": "python",
   "nbconvert_exporter": "python",
   "pygments_lexer": "ipython3",
   "version": "3.8.10"
  }
 },
 "nbformat": 4,
 "nbformat_minor": 5
}
