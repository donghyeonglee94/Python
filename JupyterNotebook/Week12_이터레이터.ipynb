{
 "cells": [
  {
   "cell_type": "markdown",
   "id": "4784bd2f",
   "metadata": {},
   "source": [
    "# 이터레이터\n",
    "- iterator: 값을 차례대로 꺼낼 수 있는 object\n",
    "- lazy evaluation: 값이 필요한 시점에 값을 만드는 방식\n",
    "- iterator protocol 지원 : \\_\\_iter\\_\\_() 와 \\_\\_next\\_\\_()를 모두 가진 객체\n",
    "- unpacking 가능\n",
    "- \\_\\_iter\\_\\_() / \\_\\_next\\_\\_()\n",
    "- \\_\\_getitem\\_\\_()"
   ]
  },
  {
   "cell_type": "code",
   "execution_count": 1,
   "id": "9f18b466",
   "metadata": {},
   "outputs": [
    {
     "data": {
      "text/plain": [
       "1"
      ]
     },
     "execution_count": 1,
     "metadata": {},
     "output_type": "execute_result"
    }
   ],
   "source": [
    "it = [1, 2, 3].__iter__()\n",
    "it.__next__()"
   ]
  },
  {
   "cell_type": "markdown",
   "id": "c85e9cde",
   "metadata": {},
   "source": [
    "### 이터레이터 정의\n",
    "\n",
    "```python\n",
    "class 이터레이터명:\n",
    "    def __iter__(self):\n",
    "        코드\n",
    " \n",
    "    def __next__(self):\n",
    "        코드\n",
    "```"
   ]
  },
  {
   "cell_type": "code",
   "execution_count": 8,
   "id": "be1462b3",
   "metadata": {},
   "outputs": [
    {
     "name": "stdout",
     "output_type": "stream",
     "text": [
      "0 1 2 0\n"
     ]
    }
   ],
   "source": [
    "class Range:\n",
    "    def __init__(self, stop, step = 1):\n",
    "        self.current = 0    \n",
    "        self.stop = stop    \n",
    "        self.step = step\n",
    " \n",
    "    def __iter__(self):\n",
    "        return self         \n",
    " \n",
    "    def __next__(self):\n",
    "        if self.current < self.stop:    \n",
    "            r = self.current            \n",
    "            self.current += self.step   \n",
    "            return r                   \n",
    "        else:                           \n",
    "            raise StopIteration\n",
    "\n",
    "for i in Range(3):\n",
    "    print(i, end=' ')\n",
    "    \n",
    "# 언팩킹\n",
    "a, b, c = Counter(3)\n",
    "\n",
    "# 인덱스\n",
    "print(Counter(3)[0])"
   ]
  },
  {
   "cell_type": "markdown",
   "id": "9c996525",
   "metadata": {},
   "source": [
    "### 인덱스 접근\n",
    "- \\_\\_getitem\\_\\_()\n",
    "\n",
    "```python\n",
    "class 이터레이터명:\n",
    "    def __getitem__(self, index):\n",
    "        실행 코드\n",
    "```"
   ]
  },
  {
   "cell_type": "code",
   "execution_count": 1,
   "id": "6730f73f",
   "metadata": {},
   "outputs": [
    {
     "name": "stdout",
     "output_type": "stream",
     "text": [
      "0 1 2\n",
      "0 1 2 "
     ]
    }
   ],
   "source": [
    "class Counter:\n",
    "    def __init__(self, stop):\n",
    "        self.stop = stop\n",
    " \n",
    "    def __getitem__(self, index):\n",
    "        if index < self.stop:\n",
    "            return index\n",
    "        else:\n",
    "            raise IndexError\n",
    " \n",
    "print(Counter(3)[0], Counter(3)[1], Counter(3)[2])\n",
    " \n",
    "for i in Counter(3):\n",
    "    print(i, end=' ')"
   ]
  },
  {
   "cell_type": "markdown",
   "id": "64b5ec1c",
   "metadata": {},
   "source": [
    "### iter, next 함수\n",
    "- iter()는 iter 메서드를 호출\n",
    "- next()는 next 메서드를 호출\n",
    "\n",
    "```python\n",
    "iter(호출가능한객체, 기본값)       # 기본값일 경우 종료\n",
    "next(반복가능한객체, 기본값)       # 반복 끝난 뒤 기본값 출력\n",
    "```"
   ]
  },
  {
   "cell_type": "code",
   "execution_count": 3,
   "id": "09e5397e",
   "metadata": {},
   "outputs": [
    {
     "name": "stdout",
     "output_type": "stream",
     "text": [
      "0 1 1 0 "
     ]
    }
   ],
   "source": [
    "import random\n",
    "\n",
    "for i in iter(lambda : random.randint(0, 5), 2):\n",
    "    print(i, end=' ')"
   ]
  }
 ],
 "metadata": {
  "kernelspec": {
   "display_name": "Python 3 (ipykernel)",
   "language": "python",
   "name": "python3"
  },
  "language_info": {
   "codemirror_mode": {
    "name": "ipython",
    "version": 3
   },
   "file_extension": ".py",
   "mimetype": "text/x-python",
   "name": "python",
   "nbconvert_exporter": "python",
   "pygments_lexer": "ipython3",
   "version": "3.8.10"
  }
 },
 "nbformat": 4,
 "nbformat_minor": 5
}
