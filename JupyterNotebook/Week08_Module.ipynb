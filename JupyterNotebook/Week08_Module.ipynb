{
 "cells": [
  {
   "cell_type": "markdown",
   "id": "c5ce7529",
   "metadata": {},
   "source": [
    "# 모듈\n",
    "- 모듈: 변수, 함수, 클래스 담는 파일(.py)\n",
    "- 패키지: 여러 모듈을 묶는 것, 모듈에 namespace 제공\n",
    "- Python Standard Library: 파이썬 설치시 기본적으로 설치되는 모듈, 패키지, built-in 함수\n",
    "\n",
    "### 모듈 가져오기\n",
    "```python\n",
    "import 모듈 \n",
    "모듈.변수 / 모듈.함수() / 모듈.클래스()\n",
    "\n",
    "from 모듈 import 변수(함수, 클래스) as 이름\n",
    "\n",
    "del 모듈                  ## 모듈 해제\n",
    "importlib.reload(모듈)    ## 모듈 재설정\n",
    "```\n",
    "\n",
    "### 패키지 가져오기\n",
    "```python\n",
    "import 패키지.모듈 as 이름\n",
    "from 패키지.모듈 import 변수 as 이름, 함수 as 이름, 클래스 as 이름\n",
    "```"
   ]
  },
  {
   "cell_type": "code",
   "execution_count": 1,
   "id": "521c1622",
   "metadata": {},
   "outputs": [
    {
     "data": {
      "text/plain": [
       "4"
      ]
     },
     "execution_count": 1,
     "metadata": {},
     "output_type": "execute_result"
    }
   ],
   "source": [
    "import math\n",
    "\n",
    "math.ceil(3.5)"
   ]
  },
  {
   "cell_type": "markdown",
   "id": "91446732",
   "metadata": {},
   "source": [
    "### 패키지 설치\n",
    "```bash\n",
    "pip install 패키지==버전\n",
    "pip search 패키지\n",
    "pip list\n",
    "pip freeze\n",
    "pip uninstall 패키지\n",
    "```"
   ]
  },
  {
   "cell_type": "code",
   "execution_count": null,
   "id": "a518aa97",
   "metadata": {},
   "outputs": [],
   "source": [
    "!pip install matplotlib"
   ]
  },
  {
   "cell_type": "markdown",
   "id": "d0322826",
   "metadata": {},
   "source": [
    "### 모듈 제작\n",
    "- main.py와 동일한 폴더에 위치\n",
    "- entry point: if __name__ == '__main__'\n",
    "\n",
    "\n",
    "### 패키지 제작\n",
    "- __init__.py가 폴더내에 존재(3.3이하)\n",
    "- __init__.py 내부에서 from .모듈 import 함수로 빠른 선언 가능\n",
    "- 하위 모듈에서 이웃 모듈 접근시 ..패키지, ..모듈로 접근 (점(.) 하나당 상위로 이동)\n",
    "- __all__=['함수', '클래스',..]으로 접근 가능한 변수, 함수, 클래스, 지정\n"
   ]
  },
  {
   "cell_type": "markdown",
   "id": "a7d08188",
   "metadata": {},
   "source": [
    "### doc-string\n",
    "- 모듈: 모듈의 첫줄에 \"\"\"content\"\"\"\n",
    "- 패키지: __init__.py의 첫줄에 \"\"\"content\"\"\"\n",
    "\n",
    "```python\n",
    "모듈.__doc__\n",
    "패키지.__doc__\n",
    "```"
   ]
  },
  {
   "cell_type": "code",
   "execution_count": 2,
   "id": "294b5a54",
   "metadata": {},
   "outputs": [
    {
     "name": "stdout",
     "output_type": "stream",
     "text": [
      "This module provides access to the mathematical functions\n",
      "defined by the C standard.\n"
     ]
    }
   ],
   "source": [
    "import math\n",
    "\n",
    "print(math.__doc__)"
   ]
  }
 ],
 "metadata": {
  "kernelspec": {
   "display_name": "Python 3 (ipykernel)",
   "language": "python",
   "name": "python3"
  },
  "language_info": {
   "codemirror_mode": {
    "name": "ipython",
    "version": 3
   },
   "file_extension": ".py",
   "mimetype": "text/x-python",
   "name": "python",
   "nbconvert_exporter": "python",
   "pygments_lexer": "ipython3",
   "version": "3.8.10"
  }
 },
 "nbformat": 4,
 "nbformat_minor": 5
}
