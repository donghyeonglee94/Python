{
 "cells": [
  {
   "cell_type": "markdown",
   "id": "2097f0d4",
   "metadata": {},
   "source": [
    "# 제어문(Control Statement)\n",
    "- 제어문은 조건에 따라 나뉘는 조건문과 반복적으로 실행되는 반복문으로 구성\n",
    "- 조건문: 조건에 따라 나뉨\n",
    "- 반복문: 특정 조건이 만족되면 반복적으로 실행\n",
    "- break, continue: 반복문 탈출"
   ]
  },
  {
   "cell_type": "markdown",
   "id": "c9925d03",
   "metadata": {},
   "source": [
    "### 조건문(Conditional Statement)\n",
    "- 특정 조건이 참이면 실행\n",
    "- 들여쓰기를 기준으로 나눔\n",
    "- 중첩 가능"
   ]
  },
  {
   "cell_type": "markdown",
   "id": "98ac87cc",
   "metadata": {},
   "source": [
    "##### if문\n",
    "\n",
    "```python\n",
    "if 조건식:\n",
    "    코드\n",
    "```"
   ]
  },
  {
   "cell_type": "code",
   "execution_count": null,
   "id": "8bfee9ee",
   "metadata": {},
   "outputs": [],
   "source": [
    "# if문\n",
    "a = 1\n",
    "\n",
    "if a == 1:\n",
    "    print(f'a는 {a}입니다.')\n",
    "if a <= 3:\n",
    "    print(f'a는 {a}입니다.')"
   ]
  },
  {
   "cell_type": "markdown",
   "id": "262bf9c0",
   "metadata": {},
   "source": [
    "##### if ~ else\n",
    "- if의 조건이 참이 아닐 경우 else 실행\n",
    "\n",
    "```python    \n",
    "if 조건식:\n",
    "    코드\n",
    "else:\n",
    "    코드\n",
    "```"
   ]
  },
  {
   "cell_type": "code",
   "execution_count": null,
   "id": "a233ee7c",
   "metadata": {},
   "outputs": [],
   "source": [
    "# if문\n",
    "a = 1\n",
    "\n",
    "if a == 1:\n",
    "    print(f'a는 {a}입니다.')\n",
    "else:\n",
    "    print(f'a는 {a}아닙니다.')   "
   ]
  },
  {
   "cell_type": "markdown",
   "id": "5ad2d1ac",
   "metadata": {},
   "source": [
    "##### if ~ elif ~ else \n",
    "- elif는 여러번 사용 가능\n",
    "\n",
    "```python\n",
    "  \n",
    "if 조건식:\n",
    "    코드\n",
    "elif 조건식:\n",
    "    코드\n",
    "else:\n",
    "    코드\n",
    "```"
   ]
  },
  {
   "cell_type": "code",
   "execution_count": null,
   "id": "e2d1114e",
   "metadata": {},
   "outputs": [],
   "source": [
    "a = 1\n",
    "\n",
    "if a == 1:\n",
    "    print(f'a는 {a}입니다.')\n",
    "elif a<=3:\n",
    "    print(f'a는 {a}')\n",
    "else:\n",
    "    print(f'a는 {a}아닙니다.')  "
   ]
  },
  {
   "cell_type": "markdown",
   "id": "ed09546c",
   "metadata": {},
   "source": [
    "### 반복문(Iteration Loop)\n",
    "- 조건이 참이면 반복적으로 실행\n",
    "- 탈출조건 필수\n",
    "- 중첩 가능\n",
    "- break로 가까운 반복문 탈출 \n",
    "- continue로 가까운 반복문 1회 스킵"
   ]
  },
  {
   "cell_type": "markdown",
   "id": "d4c6e513",
   "metadata": {},
   "source": [
    "##### while문\n",
    "\n",
    "```python\n",
    "while 조건식:\n",
    "    코드\n",
    "    탈출조건\n",
    "```"
   ]
  },
  {
   "cell_type": "code",
   "execution_count": null,
   "id": "c0429680",
   "metadata": {},
   "outputs": [],
   "source": [
    "a = 1\n",
    "while(a<=10):\n",
    "    print(a)\n",
    "    a += 1   # a = a + 1"
   ]
  },
  {
   "cell_type": "markdown",
   "id": "6e814160",
   "metadata": {},
   "source": [
    "##### for ~ in (iterable 객체)\n",
    "\n",
    "```python\n",
    "for 변수 in (iterable 객체):\n",
    "    코드(변수 포함 가능)\n",
    "```\n",
    "- range(start=0, end, sep=1) : 순서대로 숫자를 생성하는 제너레이터\n",
    "\n",
    "```python\n",
    "for 변수 in range(1, 10, 2):\n",
    "    코드(변수 포함 가능)\n",
    "```\n",
    "- enumerate(iterable 객체) : index와 함께 순서대로 값을 반환\n",
    "\n",
    "```python\n",
    "for idx, 변수 in enumerate(iterable 객체):\n",
    "    코드(변수 포함 가능)\n",
    "```"
   ]
  },
  {
   "cell_type": "code",
   "execution_count": null,
   "id": "04080d15",
   "metadata": {},
   "outputs": [],
   "source": [
    "# 구구단\n",
    "for i in range(1, 10):\n",
    "    for j in range(1, 10):\n",
    "        print(f\"{i} x {j} = {i * j}\")"
   ]
  }
 ],
 "metadata": {
  "kernelspec": {
   "display_name": "Python 3 (ipykernel)",
   "language": "python",
   "name": "python3"
  },
  "language_info": {
   "codemirror_mode": {
    "name": "ipython",
    "version": 3
   },
   "file_extension": ".py",
   "mimetype": "text/x-python",
   "name": "python",
   "nbconvert_exporter": "python",
   "pygments_lexer": "ipython3",
   "version": "3.8.10"
  }
 },
 "nbformat": 4,
 "nbformat_minor": 5
}
